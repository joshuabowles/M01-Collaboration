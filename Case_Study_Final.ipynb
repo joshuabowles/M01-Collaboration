{
 "cells": [
  {
   "cell_type": "code",
   "execution_count": null,
   "id": "76347b42",
   "metadata": {},
   "outputs": [
    {
     "name": "stdout",
     "output_type": "stream",
     "text": [
      "Enter last name: b\n",
      "Hello: b\n",
      "Enter first name: j\n",
      "Just checking: j\n",
      "Enter GPA: 3.467\n",
      "GPA: 3.47\n",
      "Student has made the Honor Roll.\n",
      "Enter first name: joshua\n",
      "Just checking: joshua\n",
      "Enter GPA: 43567\n",
      "GPA: 43567.00\n",
      "Student has made the Dean's List.\n"
     ]
    }
   ],
   "source": [
    "# Author: Joshua Bowles\n",
    "# File Name: Case Study\n",
    "# This appliocation will determine if the student \n",
    "# is on the Deans List or Honor Roll given their name and gpa\n",
    "\n",
    "deansList = 3.5\n",
    "honorRoll = 3.25\n",
    "\n",
    "#input for last name is taken then printed\n",
    "lastName = input(\"Enter last name: \")\n",
    "print(\"Hello: \" + lastName)\n",
    "\n",
    "#input for first name is taken then printed, enter ZZZ or zzz to end, \n",
    "while lastName != \"ZZZ\" and lastName != \"zzz\":\n",
    "    \n",
    "    firstName = input(\"Enter first name: \")\n",
    "    print(\"Just checking: \" + firstName)\n",
    "\n",
    "##input for gpa is taken, formatted, and then printed\n",
    "    gpa = float(input(\"Enter GPA: \"))\n",
    "    print(\"GPA: \" + format(gpa, \".2f\"))\n",
    "\n",
    "#range for gpa to be printed out accordingly\n",
    "    if gpa >= 3.5:\n",
    "        print(\"Student has made the Dean's List.\")\n",
    "    elif gpa >= 3.25 or gpa > 3.5:\n",
    "        print(\"Student has made the Honor Roll.\")\n",
    "    else:\n",
    "        print(\"Maybe next time\")\n",
    "  \n",
    "\n",
    "\n"
   ]
  },
  {
   "cell_type": "code",
   "execution_count": null,
   "id": "fe170967",
   "metadata": {},
   "outputs": [],
   "source": []
  }
 ],
 "metadata": {
  "kernelspec": {
   "display_name": "Python 3 (ipykernel)",
   "language": "python",
   "name": "python3"
  },
  "language_info": {
   "codemirror_mode": {
    "name": "ipython",
    "version": 3
   },
   "file_extension": ".py",
   "mimetype": "text/x-python",
   "name": "python",
   "nbconvert_exporter": "python",
   "pygments_lexer": "ipython3",
   "version": "3.9.12"
  }
 },
 "nbformat": 4,
 "nbformat_minor": 5
}
