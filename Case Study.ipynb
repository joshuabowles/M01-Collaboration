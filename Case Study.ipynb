{
 "cells": [
  {
   "cell_type": "code",
   "execution_count": 10,
   "id": "76347b42",
   "metadata": {},
   "outputs": [
    {
     "ename": "SyntaxError",
     "evalue": "invalid syntax (260175940.py, line 8)",
     "output_type": "error",
     "traceback": [
      "\u001b[0;36m  Input \u001b[0;32mIn [10]\u001b[0;36m\u001b[0m\n\u001b[0;31m    for lastName:\u001b[0m\n\u001b[0m                ^\u001b[0m\n\u001b[0;31mSyntaxError\u001b[0m\u001b[0;31m:\u001b[0m invalid syntax\n"
     ]
    }
   ],
   "source": [
    "deansList = 3.5\n",
    "honorRoll = 3.25\n",
    "\n",
    "\n",
    "lastName = input(\"Enter last name: \")\n",
    "print(\"Hello: \" + lastName)\n",
    "\n",
    "while lastName == \"ZZZ\":\n",
    "        print(\"Goodbye\")\n",
    "        break\n",
    "\n",
    "\n",
    "firstName = input(\"Enter first name: \")\n",
    "print(\"Just checking: \" + firstName)\n",
    "\n",
    "gpa = float(input(\"Enter GPA: \"))\n",
    "print(\"GPA: \" + str(gpa))\n",
    "\n",
    "\n",
    "while gpa >= deansList:\n",
    "    print(\"Student has made the Dean's List.\")\n",
    "    break\n",
    "\n",
    "\n"
   ]
  },
  {
   "cell_type": "code",
   "execution_count": null,
   "id": "fdf658a4",
   "metadata": {},
   "outputs": [],
   "source": []
  },
  {
   "cell_type": "code",
   "execution_count": null,
   "id": "1f628bd8",
   "metadata": {},
   "outputs": [],
   "source": []
  }
 ],
 "metadata": {
  "kernelspec": {
   "display_name": "Python 3 (ipykernel)",
   "language": "python",
   "name": "python3"
  },
  "language_info": {
   "codemirror_mode": {
    "name": "ipython",
    "version": 3
   },
   "file_extension": ".py",
   "mimetype": "text/x-python",
   "name": "python",
   "nbconvert_exporter": "python",
   "pygments_lexer": "ipython3",
   "version": "3.9.12"
  }
 },
 "nbformat": 4,
 "nbformat_minor": 5
}
